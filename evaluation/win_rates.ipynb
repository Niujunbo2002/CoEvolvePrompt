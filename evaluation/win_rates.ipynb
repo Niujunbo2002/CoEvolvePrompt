{
 "cells": [
  {
   "cell_type": "code",
   "execution_count": 1,
   "id": "fc4eed33",
   "metadata": {},
   "outputs": [],
   "source": [
    "def is_correct(sample):\n",
    "    return sample[\"extracted_output\"] == sample[\"ground_truth_answer\"]\n",
    "\n",
    "def compare(a, b):\n",
    "    \"\"\"\n",
    "    Compare a and b. Return 1 if a wins, -1 if b wins, 0 if tie.\n",
    "    \"\"\"\n",
    "    a_correct = is_correct(a)\n",
    "    b_correct = is_correct(b)\n",
    "\n",
    "    if a_correct and not b_correct:\n",
    "        return 1\n",
    "    elif not a_correct and b_correct:\n",
    "        return -1\n",
    "    else:\n",
    "        # Both correct or both incorrect: compare length\n",
    "        a_len = a[\"response_length\"]\n",
    "        b_len = b[\"response_length\"]\n",
    "        if a_len < b_len:\n",
    "            return 1\n",
    "        elif a_len > b_len:\n",
    "            return -1\n",
    "        else:\n",
    "            return 0\n",
    "\n",
    "def compute_win_rate(data, baseline_data):\n",
    "    assert len(data) == len(baseline_data), \"Length mismatch\"\n",
    "    total = 0\n",
    "    wins = 0\n",
    "    for a, b in zip(data, baseline_data):\n",
    "        result = compare(a, b)\n",
    "        if result == 1:\n",
    "            wins += 1\n",
    "        if result != 0:\n",
    "            total += 1\n",
    "    return wins / total if total > 0 else 0.0\n"
   ]
  },
  {
   "cell_type": "code",
   "execution_count": 2,
   "id": "93d39861",
   "metadata": {},
   "outputs": [],
   "source": [
    "import json\n",
    "\n",
    "dataset = \"outputs-eval-deepseek-ai.DeepSeek-R1-Distill-Qwen-7B-MATH500\"\n",
    "with open(\"./temp_data/\" + dataset + \".json\", 'r') as f:\n",
    "    baseline_data = json.load(f)\n",
    "\n",
    "dataset = \"outputs-eval-...optimization.ckpt.optimized-MATH500\"\n",
    "with open(\"./temp_data/\" + dataset + \".json\", 'r') as f:\n",
    "    data = json.load(f)"
   ]
  },
  {
   "cell_type": "code",
   "execution_count": 3,
   "id": "f67d44dc",
   "metadata": {},
   "outputs": [
    {
     "name": "stdout",
     "output_type": "stream",
     "text": [
      "Win rate of new model over baseline: 0.624\n"
     ]
    }
   ],
   "source": [
    "win_rate = compute_win_rate(data, baseline_data)\n",
    "print(f\"Win rate of new model over baseline: {win_rate:.3f}\")"
   ]
  }
 ],
 "metadata": {
  "kernelspec": {
   "display_name": "yinjie-spro",
   "language": "python",
   "name": "yinjie-spro"
  },
  "language_info": {
   "codemirror_mode": {
    "name": "ipython",
    "version": 3
   },
   "file_extension": ".py",
   "mimetype": "text/x-python",
   "name": "python",
   "nbconvert_exporter": "python",
   "pygments_lexer": "ipython3",
   "version": "3.10.16"
  }
 },
 "nbformat": 4,
 "nbformat_minor": 5
}
