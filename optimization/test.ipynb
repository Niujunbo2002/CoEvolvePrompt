{
 "cells": [
  {
   "cell_type": "code",
   "execution_count": 13,
   "id": "9bcde0c7",
   "metadata": {},
   "outputs": [],
   "source": [
    "import os\n",
    "import json\n",
    "\n",
    "#pretrained_model = \"Qwen/Qwen2.5-7B-Instruct\"\n",
    "pretrained_model = \"deepseek-ai/DeepSeek-R1-Distill-Qwen-7B\"\n",
    "\n",
    "dataset = \"MATH_train\"\n",
    "\n",
    "\n",
    "\n",
    "outputs_name =  pretrained_model.replace(\"/\", \".\") + \"-\" + dataset\n",
    "\n",
    "os.makedirs(os.path.dirname(\"./temp_data/outputs-rl-\" + outputs_name + \".json\"), exist_ok=True)\n",
    "with open(\"./temp_data/outputs-rl-\" + outputs_name + \".json\", 'r') as f:\n",
    "    data = json.load(f)\n",
    "\n",
    "\n",
    "max_generation_token = 10000"
   ]
  },
  {
   "cell_type": "code",
   "execution_count": 14,
   "id": "b8169418",
   "metadata": {},
   "outputs": [],
   "source": [
    "index_list = []\n",
    "extracted_output_list = []\n",
    "ground_truth_list = []\n",
    "for i in range(len(data)):\n",
    "    data[i][\"correctness\"] = []\n",
    "    index_list = index_list + [i] * len(data[i][\"extracted_output\"])\n",
    "    extracted_output_list = extracted_output_list + data[i][\"extracted_output\"]\n",
    "    ground_truth_list = ground_truth_list + [data[i][\"ground_truth_answer\"]] * len(data[i][\"extracted_output\"])"
   ]
  },
  {
   "cell_type": "code",
   "execution_count": 15,
   "id": "5bd54e01",
   "metadata": {},
   "outputs": [],
   "source": [
    "from concurrent.futures import ThreadPoolExecutor\n",
    "import math_utils\n",
    "import asyncio\n",
    "import nest_asyncio\n",
    "nest_asyncio.apply()\n",
    "\n",
    "\n",
    "async def get_correctness():\n",
    "    executor = ThreadPoolExecutor(max_workers=64)\n",
    "    tasks = []\n",
    "    for i in range(len(index_list)):\n",
    "        tasks.append(math_utils.is_equal(extracted_output_list[i], ground_truth_list[i], executor))\n",
    "    results = await asyncio.gather(*tasks)\n",
    "    return results\n",
    "\n",
    "\n",
    "correctness_list = asyncio.run(get_correctness())"
   ]
  },
  {
   "cell_type": "code",
   "execution_count": 16,
   "id": "6f7e2f55",
   "metadata": {},
   "outputs": [],
   "source": [
    "for i in range(len(index_list)):\n",
    "    index_i = index_list[i]\n",
    "    data[index_i][\"correctness\"].append(correctness_list[i])"
   ]
  },
  {
   "cell_type": "code",
   "execution_count": 17,
   "id": "b1a13b1b",
   "metadata": {},
   "outputs": [],
   "source": [
    "import numpy as np\n",
    "from scipy.stats import norm\n",
    "\n",
    "def compute_reversed_ranks(correct: list[bool], lengths: list[int]) -> list[int]:\n",
    "    n = len(correct)\n",
    "    items = list(enumerate(zip(correct, lengths)))\n",
    "    items_sorted = sorted(\n",
    "        items,\n",
    "        key=lambda x: (-int(x[1][0]), x[1][1])\n",
    "    )\n",
    "    ranks = [0] * n\n",
    "    for i, (idx, _) in enumerate(items_sorted):\n",
    "        ranks[idx] = n - i\n",
    "    return ranks"
   ]
  },
  {
   "cell_type": "code",
   "execution_count": 23,
   "id": "0efa8cf0",
   "metadata": {},
   "outputs": [],
   "source": [
    "i = 0\n",
    "correctness = data[i][\"correctness\"]\n",
    "lengths = data[i][\"response_length\"]\n",
    "rewards = [correctness[i] + 0.001 * lengths[i] for i in range(len(correctness))]"
   ]
  },
  {
   "cell_type": "code",
   "execution_count": null,
   "id": "27bbd05a",
   "metadata": {},
   "outputs": [],
   "source": [
    "final_data = []\n",
    "for i in range(len(data)):\n",
    "    correctness = data[i][\"correctness\"]\n",
    "    lengths = data[i][\"response_length\"]\n",
    "    #ranks = compute_reversed_ranks(correctness, lengths)\n",
    "    #probs  = np.array(ranks) / (len(ranks) + 1)\n",
    "    #rewards = norm.ppf(probs)\n",
    "    data[i][\"rewards\"] = rewards\n",
    "\n",
    "    for j in range(len(rewards)):\n",
    "        data_i = {}\n",
    "        data_i[\"prompt\"] = data[i][\"prompt\"]\n",
    "        data_i[\"reward\"] = rewards[j]\n",
    "        if lengths[j] < max_generation_token:\n",
    "            data_i[\"response\"] = data[i][\"full_output\"][j] + \"<|im_end|>\"\n",
    "        else:\n",
    "            data_i[\"response\"] = data[i][\"full_output\"][j]\n",
    "        final_data.append(data_i)"
   ]
  },
  {
   "cell_type": "code",
   "execution_count": 23,
   "id": "a5c1275d",
   "metadata": {},
   "outputs": [
    {
     "data": {
      "text/plain": [
       "{'prompt': '<|im_start|>You are a helpful assistant help user solve problems. <|im_end|>\\n<|im_start|>user \\nYou need to put your final answer in \\\\boxed{}. This is the problem:\\nThe function $f$ is not defined for $x = 0,$ but for all non-zero real numbers $x,$\\n\\\\[f(x) + 2f \\\\left( \\\\frac{1}{x} \\\\right) = 3x.\\\\]Find the real solutions to $f(x) = f(-x).$  Enter the real solutions, separated by commas. <|im_end|>\\n<|im_start|>assistant ',\n",
       " 'reward': 0.7215222839823432,\n",
       " 'response': '1. We start with the given functional equation:\\n   \\\\[\\n   f(x) + 2f \\\\left( \\\\frac{1}{x} \\\\right) = 3x\\n   \\\\]\\n2. Substitute \\\\( x \\\\) with \\\\( \\\\frac{1}{x} \\\\):\\n   \\\\[\\n   f \\\\left( \\\\frac{1}{x} \\\\right) + 2f(x) = \\\\frac{3}{x}\\n   \\\\]\\n\\n3. We now have a system of linear equations:\\n   \\\\[\\n   \\\\begin{cases}\\n   f(x) + 2f \\\\left( \\\\frac{1}{x} \\\\right) = 3x \\\\\\\\\\n   2f(x) + f \\\\left( \\\\frac{1}{x} \\\\right) = \\\\frac{3}{x}\\n   \\\\end{cases}\\n   \\\\]\\n\\n4. To eliminate \\\\( f \\\\left( \\\\frac{1}{x} \\\\right) \\\\), multiply the first equation by 2:\\n   \\\\[\\n   2f(x) + 4f \\\\left( \\\\frac{1}{x} \\\\right) = 6x\\n   \\\\]\\n\\n5. Subtract the second equation from this result:\\n   \\\\[\\n   (2f(x) + 4f \\\\left( \\\\frac{1}{x} \\\\right)) - (2f(x) + f \\\\left( \\\\frac{1}{x} \\\\right)) = 6x - \\\\frac{3}{x}\\n   \\\\]\\n   \\\\[\\n   3f \\\\left( \\\\frac{1}{x} \\\\right) = 6x - \\\\frac{3}{x}\\n   \\\\]\\n   \\\\[\\n   f \\\\left( \\\\frac{1}{x} \\\\right) = 2x - \\\\frac{1}{x}\\n   \\\\]\\n\\n6. Substitute \\\\( f \\\\left( \\\\frac{1}{x} \\\\right) \\\\) back into the first equation:\\n   \\\\[\\n   f(x) + 2 \\\\left( 2x - \\\\frac{1}{x} \\\\right) = 3x\\n   \\\\]\\n   \\\\[\\n   f(x) + 4x - \\\\frac{2}{x} = 3x\\n   \\\\]\\n   \\\\[\\n   f(x) = 3x - 4x + \\\\frac{2}{x}\\n   \\\\]\\n   \\\\[\\n   f(x) = -x + \\\\frac{2}{x}\\n   \\\\]\\n\\n7. We need to find \\\\( x \\\\) such that \\\\( f(x) = f(-x) \\\\):\\n   \\\\[\\n   -x + \\\\frac{2}{x} = -(-x) + \\\\frac{2}{-x}\\n   \\\\]\\n   \\\\[\\n   -x + \\\\frac{2}{x} = x - \\\\frac{2}{x}\\n   \\\\]\\n\\n8. Combine like terms:\\n   \\\\[\\n   -x + \\\\frac{2}{x} - x + \\\\frac{2}{x} = 0\\n   \\\\]\\n   \\\\[\\n   -2x + \\\\frac{4}{x} = 0\\n   \\\\]\\n\\n9. Multiply through by \\\\( x \\\\) to clear the fraction:\\n   \\\\[\\n   -2x^2 + 4 = 0\\n   \\\\]\\n   \\\\[\\n   2x^2 = 4\\n   \\\\]\\n   \\\\[\\n   x^2 = 2\\n   \\\\]\\n   \\\\[\\n   x = \\\\pm \\\\sqrt{2}\\n   \\\\]\\n\\n10. Therefore, the real solutions to \\\\( f(x) = f(-x) \\\\) are:\\n    \\\\[\\n    \\\\boxed{\\\\sqrt{2}, -\\\\sqrt{2}}\\n    \\\\]<|im_end|>'}"
      ]
     },
     "execution_count": 23,
     "metadata": {},
     "output_type": "execute_result"
    }
   ],
   "source": [
    "final_data[0]"
   ]
  },
  {
   "cell_type": "code",
   "execution_count": 8,
   "id": "db3f046e",
   "metadata": {},
   "outputs": [],
   "source": [
    "import nest_asyncio"
   ]
  }
 ],
 "metadata": {
  "kernelspec": {
   "display_name": "yinjie-spro",
   "language": "python",
   "name": "yinjie-spro"
  },
  "language_info": {
   "codemirror_mode": {
    "name": "ipython",
    "version": 3
   },
   "file_extension": ".py",
   "mimetype": "text/x-python",
   "name": "python",
   "nbconvert_exporter": "python",
   "pygments_lexer": "ipython3",
   "version": "3.10.16"
  }
 },
 "nbformat": 4,
 "nbformat_minor": 5
}
